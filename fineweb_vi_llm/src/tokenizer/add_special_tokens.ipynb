{
 "cells": [
  {
   "cell_type": "code",
   "execution_count": null,
   "id": "633ffe65",
   "metadata": {},
   "outputs": [],
   "source": [
    "from transformers import AutoTokenizer, PreTrainedTokenizerBase"
   ]
  },
  {
   "cell_type": "code",
   "execution_count": null,
   "id": "17f45780",
   "metadata": {},
   "outputs": [],
   "source": [
    "tokenizer: PreTrainedTokenizerBase = AutoTokenizer.from_pretrained(\"thng292/fineweb-vi-en-tokenizer\", revision=\"abce4bf2b6c8b2313b39a10ed0d9194140322890\")"
   ]
  },
  {
   "cell_type": "code",
   "execution_count": null,
   "id": "59aa988b",
   "metadata": {},
   "outputs": [],
   "source": [
    "len(tokenizer.get_vocab())"
   ]
  },
  {
   "cell_type": "code",
   "execution_count": null,
   "id": "4df3c09f",
   "metadata": {},
   "outputs": [],
   "source": [
    "expected_token = 65550"
   ]
  },
  {
   "cell_type": "code",
   "execution_count": null,
   "id": "76480177",
   "metadata": {},
   "outputs": [],
   "source": [
    "tokenizer.unk_token"
   ]
  },
  {
   "cell_type": "code",
   "execution_count": null,
   "id": "dad2df1a",
   "metadata": {},
   "outputs": [],
   "source": [
    "tokenizer.add_special_tokens({\n",
    "    \"unk_token\": \"<|unk|>\",\n",
    "    \"pad_token\": tokenizer.eos_token,\n",
    "})"
   ]
  },
  {
   "cell_type": "code",
   "execution_count": null,
   "id": "ece76549",
   "metadata": {},
   "outputs": [],
   "source": [
    "tokenizer.unk_token"
   ]
  },
  {
   "cell_type": "code",
   "execution_count": null,
   "id": "4206d0ad",
   "metadata": {},
   "outputs": [],
   "source": [
    "tokenizer.pad_token"
   ]
  },
  {
   "cell_type": "code",
   "execution_count": null,
   "id": "edd79545",
   "metadata": {},
   "outputs": [],
   "source": [
    "tokenizer.special_tokens_map"
   ]
  },
  {
   "cell_type": "code",
   "execution_count": null,
   "id": "6048cc8e",
   "metadata": {},
   "outputs": [],
   "source": [
    "tokenizer.add_tokens([\n",
    "    f\"<|reserved_special_token_{i}|>\" for i in range(expected_token - len(tokenizer.get_vocab()))\n",
    "])"
   ]
  },
  {
   "cell_type": "code",
   "execution_count": null,
   "id": "14430df9",
   "metadata": {},
   "outputs": [],
   "source": [
    "tokenizer.added_tokens_encoder"
   ]
  },
  {
   "cell_type": "code",
   "execution_count": null,
   "id": "566fc7e8",
   "metadata": {},
   "outputs": [],
   "source": [
    "assert len(tokenizer.get_vocab()) == expected_token"
   ]
  },
  {
   "cell_type": "code",
   "execution_count": null,
   "id": "08ae1d9f",
   "metadata": {},
   "outputs": [],
   "source": [
    "tokenizer.push_to_hub(\"thng292/fineweb-vi-en-tokenizer\")"
   ]
  }
 ],
 "metadata": {
  "kernelspec": {
   "display_name": "fineweb-vi-llm (3.13.6)",
   "language": "python",
   "name": "python3"
  },
  "language_info": {
   "codemirror_mode": {
    "name": "ipython",
    "version": 3
   },
   "file_extension": ".py",
   "mimetype": "text/x-python",
   "name": "python",
   "nbconvert_exporter": "python",
   "pygments_lexer": "ipython3",
   "version": "3.13.7"
  }
 },
 "nbformat": 4,
 "nbformat_minor": 5
}
