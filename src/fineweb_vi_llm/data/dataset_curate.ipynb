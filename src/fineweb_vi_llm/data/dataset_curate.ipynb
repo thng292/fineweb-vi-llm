{
 "cells": [
  {
   "cell_type": "code",
   "execution_count": null,
   "id": "3c27107e",
   "metadata": {},
   "outputs": [],
   "source": [
    "from typing import Optional"
   ]
  },
  {
   "cell_type": "code",
   "execution_count": null,
   "id": "cfed544e",
   "metadata": {},
   "outputs": [],
   "source": [
    "limit_train = 200_000\n",
    "limit_test = 10_000\n",
    "limit = limit_train + limit_test"
   ]
  },
  {
   "cell_type": "code",
   "execution_count": null,
   "id": "bf3d2911",
   "metadata": {},
   "outputs": [],
   "source": [
    "def set_language_fun(language: str):\n",
    "    def set_language(row: dict):\n",
    "        row[\"language\"] = language\n",
    "        return row\n",
    "    return set_language"
   ]
  },
  {
   "cell_type": "code",
   "execution_count": null,
   "id": "849eef4f",
   "metadata": {},
   "outputs": [],
   "source": [
    "column_to_take = [\"text\", \"id\", \"url\", \"language\"]"
   ]
  },
  {
   "cell_type": "code",
   "execution_count": null,
   "id": "97832740",
   "metadata": {},
   "outputs": [],
   "source": [
    "import datasets\n",
    "from datasets import load_dataset\n",
    "\n",
    "def load_process_dataset(path: str, name: Optional[str], language: str, limit: int) -> datasets.Dataset:\n",
    "    iter_dataset: datasets.IterableDataset = load_dataset(\n",
    "        path=path, name=name, split=\"train\", streaming=True,\n",
    "    )\n",
    "    iter_dataset = iter_dataset.take(limit).select_columns(column_to_take).map(set_language_fun(language))\n",
    "    return datasets.Dataset.from_generator(lambda: iter_dataset, num_proc=4)"
   ]
  },
  {
   "cell_type": "code",
   "execution_count": null,
   "id": "6c382950",
   "metadata": {},
   "outputs": [],
   "source": [
    "vi= load_process_dataset(\n",
    "    \"HuggingFaceFW/fineweb-2\",\"vie_Latn\", \"vi\", limit\n",
    ")\n",
    "ja= load_process_dataset(\n",
    "    \"HuggingFaceFW/fineweb-2\",\"jpn_Jpan\", \"ja\", limit\n",
    ")\n",
    "fr= load_process_dataset(\n",
    "    \"HuggingFaceFW/fineweb-2\",\"fra_Latn\", \"fr\", limit\n",
    ")\n",
    "en= load_process_dataset(\n",
    "    \"HuggingFaceFW/fineweb-edu\", \"sample-10BT\", \"en\", limit\n",
    ")\n",
    "zh = load_process_dataset(\n",
    "    \"HuggingFaceFW/fineweb-2\",\"cmn_Hani\", \"zh\", limit\n",
    ")"
   ]
  },
  {
   "cell_type": "code",
   "execution_count": null,
   "id": "580ac323",
   "metadata": {},
   "outputs": [],
   "source": [
    "data = {\n",
    "    \"vi\": vi,\n",
    "    \"en\": en,\n",
    "    \"fr\": fr,\n",
    "    \"ja\": ja,\n",
    "    \"zh\": zh,\n",
    "}"
   ]
  },
  {
   "cell_type": "code",
   "execution_count": null,
   "id": "41e93fd5",
   "metadata": {},
   "outputs": [],
   "source": [
    "def train_test_split_iterable(ds: datasets.IterableDataset) -> datasets.IterableDatasetDict:\n",
    "    dataset = datasets.IterableDatasetDict()\n",
    "    dataset['train'] = ds.take(limit_train)\n",
    "    dataset['test'] = ds.skip(limit_train)\n",
    "    return dataset"
   ]
  },
  {
   "cell_type": "code",
   "execution_count": null,
   "id": "00ed1dff",
   "metadata": {},
   "outputs": [],
   "source": [
    "!huggingface-cli whoami"
   ]
  },
  {
   "cell_type": "code",
   "execution_count": null,
   "id": "814e9eb5",
   "metadata": {},
   "outputs": [],
   "source": [
    "for key, val in data.items():\n",
    "    tmp = val.shuffle(32)\n",
    "    dataset = tmp.train_test_split(test_size=limit_test)\n",
    "    print(\"Uploading %s\" % key)\n",
    "    dataset.push_to_hub(\"thng292/fineweb-subset-1M\", config_name=f\"subset-{key}\")"
   ]
  },
  {
   "cell_type": "code",
   "execution_count": null,
   "id": "48db1cad",
   "metadata": {},
   "outputs": [],
   "source": [
    "default = datasets.interleave_datasets(\n",
    "    list(data.values()), seed=64, stopping_strategy=\"all_exhausted\"\n",
    ")\n",
    "default.train_test_split(test_size=limit_test).push_to_hub(\n",
    "    \"thng292/fineweb-subset-1M\", config_name=\"default\", set_default=True\n",
    ")"
   ]
  }
 ],
 "metadata": {
  "kernelspec": {
   "display_name": "Python 3 (ipykernel)",
   "language": "python",
   "name": "python3"
  },
  "language_info": {
   "codemirror_mode": {
    "name": "ipython",
    "version": 3
   },
   "file_extension": ".py",
   "mimetype": "text/x-python",
   "name": "python",
   "nbconvert_exporter": "python",
   "pygments_lexer": "ipython3",
   "version": "3.11.13"
  }
 },
 "nbformat": 4,
 "nbformat_minor": 5
}
