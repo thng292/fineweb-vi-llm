{
 "cells": [
  {
   "cell_type": "code",
   "execution_count": null,
   "id": "0e515f8d",
   "metadata": {},
   "outputs": [],
   "source": [
    "from datasets import load_dataset\n",
    "import datasets\n",
    "\n",
    "\n",
    "dataset: datasets.IterableDataset = load_dataset(\n",
    "    \"thng292/fineweb-subset-1M\",\n",
    "    \"subset-vi\",\n",
    "    split=\"train\",\n",
    "    streaming=True,\n",
    ") # type: ignore\n",
    "\n",
    "def get_training_corpus():\n",
    "    for row in dataset:\n",
    "        yield [row[\"text\"]]"
   ]
  },
  {
   "cell_type": "code",
   "execution_count": null,
   "id": "799c83a4",
   "metadata": {},
   "outputs": [],
   "source": [
    "bos_token = \"<|begin_of_text|>\"\n",
    "eos_token = \"<|end_of_text|>\"\n",
    "pad_token = \"<|pad|>\"\n",
    "unk_token = \"<|unk|>\"\n",
    "vocab_size = 50000"
   ]
  },
  {
   "cell_type": "code",
   "execution_count": null,
   "id": "0e97d899",
   "metadata": {},
   "outputs": [],
   "source": [
    "from tokenizers import (\n",
    "    decoders,\n",
    "    models,\n",
    "    pre_tokenizers,\n",
    "    trainers,\n",
    "    Tokenizer,\n",
    ")\n",
    "from transformers import PreTrainedTokenizerFast"
   ]
  },
  {
   "cell_type": "code",
   "execution_count": null,
   "id": "2b31e89f",
   "metadata": {},
   "outputs": [],
   "source": [
    "tokenizer = Tokenizer(models.BPE())\n",
    "tokenizer.pre_tokenizer = pre_tokenizers.ByteLevel(add_prefix_space=False)\n",
    "tokenizer.decoder = decoders.ByteLevel()"
   ]
  },
  {
   "cell_type": "code",
   "execution_count": null,
   "id": "2ef06e91",
   "metadata": {},
   "outputs": [],
   "source": [
    "trainer = trainers.BpeTrainer(vocab_size=vocab_size, special_tokens=[eos_token], show_progress=True)\n",
    "tokenizer.train_from_iterator(get_training_corpus(), trainer=trainer)"
   ]
  },
  {
   "cell_type": "code",
   "execution_count": null,
   "id": "cdf39dab",
   "metadata": {},
   "outputs": [],
   "source": [
    "wrapped_tokenizer = PreTrainedTokenizerFast(\n",
    "    tokenizer_object=tokenizer,\n",
    "    bos_token=eos_token,\n",
    "    eos_token=eos_token,\n",
    ")"
   ]
  },
  {
   "cell_type": "code",
   "execution_count": null,
   "id": "b9efab44",
   "metadata": {},
   "outputs": [],
   "source": [
    "wrapped_tokenizer.push_to_hub(\"thng292/fineweb-vi-tokenizer\")"
   ]
  }
 ],
 "metadata": {
  "kernelspec": {
   "display_name": "dautien-llm (3.13.6)",
   "language": "python",
   "name": "python3"
  },
  "language_info": {
   "codemirror_mode": {
    "name": "ipython",
    "version": 3
   },
   "file_extension": ".py",
   "mimetype": "text/x-python",
   "name": "python",
   "nbconvert_exporter": "python",
   "pygments_lexer": "ipython3",
   "version": "3.13.6"
  }
 },
 "nbformat": 4,
 "nbformat_minor": 5
}
