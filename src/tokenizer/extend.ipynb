{
 "cells": [
  {
   "cell_type": "code",
   "execution_count": null,
   "id": "3d7375d1",
   "metadata": {},
   "outputs": [],
   "source": [
    "from datasets import load_dataset\n",
    "import datasets\n",
    "\n",
    "\n",
    "dataset_vi: datasets.IterableDataset = load_dataset(\n",
    "    \"thng292/fineweb-subset-1M\",\n",
    "    \"subset-vi\",\n",
    "    split=\"train\",\n",
    "    streaming=True,\n",
    ") # type: ignore\n",
    "dataset_en: datasets.IterableDataset = load_dataset(\n",
    "    \"thng292/fineweb-subset-1M\",\n",
    "    \"subset-en\",\n",
    "    split=\"train\",\n",
    "    streaming=True,\n",
    ") # type: ignore\n",
    "\n",
    "def get_training_corpus():\n",
    "    for row_vi, row_en in zip(dataset_vi, dataset_en):\n",
    "        yield [row_vi[\"text\"], row_en[\"text\"]]"
   ]
  },
  {
   "cell_type": "code",
   "execution_count": 1,
   "id": "770fc2ee",
   "metadata": {},
   "outputs": [
    {
     "name": "stderr",
     "output_type": "stream",
     "text": [
      "/media/data/Code/python/dautien-llm/.venv/lib64/python3.13/site-packages/tqdm/auto.py:21: TqdmWarning: IProgress not found. Please update jupyter and ipywidgets. See https://ipywidgets.readthedocs.io/en/stable/user_install.html\n",
      "  from .autonotebook import tqdm as notebook_tqdm\n"
     ]
    }
   ],
   "source": [
    "from transformers import PreTrainedTokenizerFast\n",
    "\n",
    "tokenizer: PreTrainedTokenizerFast = PreTrainedTokenizerFast.from_pretrained(\"thng292/fineweb-vi-tokenizer\")"
   ]
  },
  {
   "cell_type": "code",
   "execution_count": null,
   "id": "2d219bba",
   "metadata": {},
   "outputs": [],
   "source": [
    "tokenizer = tokenizer.train_new_from_iterator(get_training_corpus(), vocab_size=2**16)"
   ]
  },
  {
   "cell_type": "code",
   "execution_count": null,
   "id": "0f730b90",
   "metadata": {},
   "outputs": [],
   "source": [
    "tokenizer.push_to_hub(\"thng292/fineweb-vi-en-tokenizer\")"
   ]
  }
 ],
 "metadata": {
  "kernelspec": {
   "display_name": "dautien-llm (3.13.6)",
   "language": "python",
   "name": "python3"
  },
  "language_info": {
   "codemirror_mode": {
    "name": "ipython",
    "version": 3
   },
   "file_extension": ".py",
   "mimetype": "text/x-python",
   "name": "python",
   "nbconvert_exporter": "python",
   "pygments_lexer": "ipython3",
   "version": "3.13.6"
  }
 },
 "nbformat": 4,
 "nbformat_minor": 5
}
